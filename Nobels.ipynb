{
 "cells": [
  {
   "cell_type": "code",
   "execution_count": 12,
   "metadata": {},
   "outputs": [
    {
     "name": "stdout",
     "output_type": "stream",
     "text": [
      "0.782051282051282\n",
      "0.6093906093906094\n",
      "0.4730795520269204\n",
      "0.36584818690081844\n",
      "0.2818019818019818\n",
      "0.2161768627522052\n",
      "0.16513510349126787\n",
      "0.12559571251448542\n",
      "0.0950938966181104\n",
      "0.0716649655672716\n"
     ]
    }
   ],
   "source": [
    "odds_of_missing = 1.0\n",
    "nobles = 17.0\n",
    "cards = 78.0\n",
    "non_nobles = cards - nobles\n",
    "for n in range(0, 10):\n",
    "    odds_of_missing = odds_of_missing * (non_nobles / cards)\n",
    "    cards = cards - 1\n",
    "    non_nobles = non_nobles - 1\n",
    "    print(odds_of_missing)\n"
   ]
  },
  {
   "cell_type": "code",
   "execution_count": 11,
   "metadata": {},
   "outputs": [
    {
     "data": {
      "text/plain": [
       "0.7424242424242424"
      ]
     },
     "execution_count": 11,
     "metadata": {},
     "output_type": "execute_result"
    }
   ],
   "source": []
  }
 ],
 "metadata": {
  "kernelspec": {
   "display_name": "Python 3",
   "language": "python",
   "name": "python3"
  },
  "language_info": {
   "codemirror_mode": {
    "name": "ipython",
    "version": 3
   },
   "file_extension": ".py",
   "mimetype": "text/x-python",
   "name": "python",
   "nbconvert_exporter": "python",
   "pygments_lexer": "ipython3",
   "version": "3.6.1"
  }
 },
 "nbformat": 4,
 "nbformat_minor": 2
}
